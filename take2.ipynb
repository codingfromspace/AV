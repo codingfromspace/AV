{
 "cells": [
  {
   "cell_type": "code",
   "execution_count": 1,
   "metadata": {},
   "outputs": [],
   "source": [
    "import pandas as pd\n",
    "import numpy as np\n",
    "from matplotlib import pyplot as plt\n",
    "%matplotlib inline\n",
    "import seaborn as sns\n",
    "import warnings\n",
    "warnings.filterwarnings(\"ignore\")"
   ]
  },
  {
   "cell_type": "code",
   "execution_count": 2,
   "metadata": {},
   "outputs": [],
   "source": [
    "train= pd.read_csv(r'C:\\Users\\anujc\\Downloads\\train_s3TEQDk.csv')\n",
    "test=pd.read_csv(r\"C:\\Users\\anujc\\Downloads\\test_mSzZ8RL.csv\")"
   ]
  },
  {
   "cell_type": "code",
   "execution_count": 3,
   "metadata": {},
   "outputs": [
    {
     "data": {
      "text/plain": [
       "((245725, 11), (105312, 10))"
      ]
     },
     "execution_count": 3,
     "metadata": {},
     "output_type": "execute_result"
    }
   ],
   "source": [
    "train.shape, test.shape"
   ]
  },
  {
   "cell_type": "code",
   "execution_count": 4,
   "metadata": {},
   "outputs": [
    {
     "data": {
      "text/plain": [
       "Index(['ID', 'Gender', 'Age', 'Region_Code', 'Occupation', 'Channel_Code',\n",
       "       'Vintage', 'Credit_Product', 'Avg_Account_Balance', 'Is_Active',\n",
       "       'Is_Lead'],\n",
       "      dtype='object')"
      ]
     },
     "execution_count": 4,
     "metadata": {},
     "output_type": "execute_result"
    }
   ],
   "source": [
    "train.columns"
   ]
  },
  {
   "cell_type": "code",
   "execution_count": 5,
   "metadata": {
    "scrolled": true
   },
   "outputs": [
    {
     "data": {
      "text/plain": [
       "Index(['ID', 'Gender', 'Age', 'Region_Code', 'Occupation', 'Channel_Code',\n",
       "       'Vintage', 'Credit_Product', 'Avg_Account_Balance', 'Is_Active'],\n",
       "      dtype='object')"
      ]
     },
     "execution_count": 5,
     "metadata": {},
     "output_type": "execute_result"
    }
   ],
   "source": [
    "test.columns"
   ]
  },
  {
   "cell_type": "code",
   "execution_count": 6,
   "metadata": {},
   "outputs": [],
   "source": [
    "train['source'] = 'train'\n",
    "test['source'] = 'test'\n",
    "data = pd.concat([train,test],ignore_index=True)"
   ]
  },
  {
   "cell_type": "code",
   "execution_count": 7,
   "metadata": {
    "scrolled": true
   },
   "outputs": [
    {
     "data": {
      "text/html": [
       "<div>\n",
       "<style scoped>\n",
       "    .dataframe tbody tr th:only-of-type {\n",
       "        vertical-align: middle;\n",
       "    }\n",
       "\n",
       "    .dataframe tbody tr th {\n",
       "        vertical-align: top;\n",
       "    }\n",
       "\n",
       "    .dataframe thead th {\n",
       "        text-align: right;\n",
       "    }\n",
       "</style>\n",
       "<table border=\"1\" class=\"dataframe\">\n",
       "  <thead>\n",
       "    <tr style=\"text-align: right;\">\n",
       "      <th></th>\n",
       "      <th>ID</th>\n",
       "      <th>Gender</th>\n",
       "      <th>Age</th>\n",
       "      <th>Region_Code</th>\n",
       "      <th>Occupation</th>\n",
       "      <th>Channel_Code</th>\n",
       "      <th>Vintage</th>\n",
       "      <th>Credit_Product</th>\n",
       "      <th>Avg_Account_Balance</th>\n",
       "      <th>Is_Active</th>\n",
       "      <th>Is_Lead</th>\n",
       "      <th>source</th>\n",
       "    </tr>\n",
       "  </thead>\n",
       "  <tbody>\n",
       "    <tr>\n",
       "      <th>0</th>\n",
       "      <td>NNVBBKZB</td>\n",
       "      <td>Female</td>\n",
       "      <td>73</td>\n",
       "      <td>RG268</td>\n",
       "      <td>Other</td>\n",
       "      <td>X3</td>\n",
       "      <td>43</td>\n",
       "      <td>No</td>\n",
       "      <td>1045696</td>\n",
       "      <td>No</td>\n",
       "      <td>0.0</td>\n",
       "      <td>train</td>\n",
       "    </tr>\n",
       "    <tr>\n",
       "      <th>1</th>\n",
       "      <td>IDD62UNG</td>\n",
       "      <td>Female</td>\n",
       "      <td>30</td>\n",
       "      <td>RG277</td>\n",
       "      <td>Salaried</td>\n",
       "      <td>X1</td>\n",
       "      <td>32</td>\n",
       "      <td>No</td>\n",
       "      <td>581988</td>\n",
       "      <td>No</td>\n",
       "      <td>0.0</td>\n",
       "      <td>train</td>\n",
       "    </tr>\n",
       "    <tr>\n",
       "      <th>2</th>\n",
       "      <td>HD3DSEMC</td>\n",
       "      <td>Female</td>\n",
       "      <td>56</td>\n",
       "      <td>RG268</td>\n",
       "      <td>Self_Employed</td>\n",
       "      <td>X3</td>\n",
       "      <td>26</td>\n",
       "      <td>No</td>\n",
       "      <td>1484315</td>\n",
       "      <td>Yes</td>\n",
       "      <td>0.0</td>\n",
       "      <td>train</td>\n",
       "    </tr>\n",
       "    <tr>\n",
       "      <th>3</th>\n",
       "      <td>BF3NC7KV</td>\n",
       "      <td>Male</td>\n",
       "      <td>34</td>\n",
       "      <td>RG270</td>\n",
       "      <td>Salaried</td>\n",
       "      <td>X1</td>\n",
       "      <td>19</td>\n",
       "      <td>No</td>\n",
       "      <td>470454</td>\n",
       "      <td>No</td>\n",
       "      <td>0.0</td>\n",
       "      <td>train</td>\n",
       "    </tr>\n",
       "    <tr>\n",
       "      <th>4</th>\n",
       "      <td>TEASRWXV</td>\n",
       "      <td>Female</td>\n",
       "      <td>30</td>\n",
       "      <td>RG282</td>\n",
       "      <td>Salaried</td>\n",
       "      <td>X1</td>\n",
       "      <td>33</td>\n",
       "      <td>No</td>\n",
       "      <td>886787</td>\n",
       "      <td>No</td>\n",
       "      <td>0.0</td>\n",
       "      <td>train</td>\n",
       "    </tr>\n",
       "  </tbody>\n",
       "</table>\n",
       "</div>"
      ],
      "text/plain": [
       "         ID  Gender  Age Region_Code     Occupation Channel_Code  Vintage  \\\n",
       "0  NNVBBKZB  Female   73       RG268          Other           X3       43   \n",
       "1  IDD62UNG  Female   30       RG277       Salaried           X1       32   \n",
       "2  HD3DSEMC  Female   56       RG268  Self_Employed           X3       26   \n",
       "3  BF3NC7KV    Male   34       RG270       Salaried           X1       19   \n",
       "4  TEASRWXV  Female   30       RG282       Salaried           X1       33   \n",
       "\n",
       "  Credit_Product  Avg_Account_Balance Is_Active  Is_Lead source  \n",
       "0             No              1045696        No      0.0  train  \n",
       "1             No               581988        No      0.0  train  \n",
       "2             No              1484315       Yes      0.0  train  \n",
       "3             No               470454        No      0.0  train  \n",
       "4             No               886787        No      0.0  train  "
      ]
     },
     "execution_count": 7,
     "metadata": {},
     "output_type": "execute_result"
    }
   ],
   "source": [
    "data.head()"
   ]
  },
  {
   "cell_type": "code",
   "execution_count": 8,
   "metadata": {},
   "outputs": [
    {
     "data": {
      "text/plain": [
       "(351037, 12)"
      ]
     },
     "execution_count": 8,
     "metadata": {},
     "output_type": "execute_result"
    }
   ],
   "source": [
    "data.shape    "
   ]
  },
  {
   "cell_type": "code",
   "execution_count": 9,
   "metadata": {},
   "outputs": [
    {
     "data": {
      "text/plain": [
       "ID                          0\n",
       "Gender                      0\n",
       "Age                         0\n",
       "Region_Code                 0\n",
       "Occupation                  0\n",
       "Channel_Code                0\n",
       "Vintage                     0\n",
       "Credit_Product          41847\n",
       "Avg_Account_Balance         0\n",
       "Is_Active                   0\n",
       "Is_Lead                105312\n",
       "source                      0\n",
       "dtype: int64"
      ]
     },
     "execution_count": 9,
     "metadata": {},
     "output_type": "execute_result"
    }
   ],
   "source": [
    "data.isnull().sum()"
   ]
  },
  {
   "cell_type": "code",
   "execution_count": 10,
   "metadata": {},
   "outputs": [
    {
     "data": {
      "text/plain": [
       "ID                         0\n",
       "Gender                     0\n",
       "Age                        0\n",
       "Region_Code                0\n",
       "Occupation                 0\n",
       "Channel_Code               0\n",
       "Vintage                    0\n",
       "Credit_Product         29325\n",
       "Avg_Account_Balance        0\n",
       "Is_Active                  0\n",
       "Is_Lead                    0\n",
       "source                     0\n",
       "dtype: int64"
      ]
     },
     "execution_count": 10,
     "metadata": {},
     "output_type": "execute_result"
    }
   ],
   "source": [
    "train.isnull().sum()"
   ]
  },
  {
   "cell_type": "code",
   "execution_count": 11,
   "metadata": {},
   "outputs": [
    {
     "data": {
      "text/plain": [
       "ID                         0\n",
       "Gender                     0\n",
       "Age                        0\n",
       "Region_Code                0\n",
       "Occupation                 0\n",
       "Channel_Code               0\n",
       "Vintage                    0\n",
       "Credit_Product         12522\n",
       "Avg_Account_Balance        0\n",
       "Is_Active                  0\n",
       "source                     0\n",
       "dtype: int64"
      ]
     },
     "execution_count": 11,
     "metadata": {},
     "output_type": "execute_result"
    }
   ],
   "source": [
    "test.isnull().sum()"
   ]
  },
  {
   "cell_type": "code",
   "execution_count": 12,
   "metadata": {},
   "outputs": [
    {
     "data": {
      "text/plain": [
       "ID                      object\n",
       "Gender                  object\n",
       "Age                      int64\n",
       "Region_Code             object\n",
       "Occupation              object\n",
       "Channel_Code            object\n",
       "Vintage                  int64\n",
       "Credit_Product          object\n",
       "Avg_Account_Balance      int64\n",
       "Is_Active               object\n",
       "Is_Lead                float64\n",
       "source                  object\n",
       "dtype: object"
      ]
     },
     "execution_count": 12,
     "metadata": {},
     "output_type": "execute_result"
    }
   ],
   "source": [
    "data.dtypes"
   ]
  },
  {
   "cell_type": "code",
   "execution_count": 14,
   "metadata": {},
   "outputs": [
    {
     "data": {
      "text/plain": [
       "ID                     351037\n",
       "Gender                      2\n",
       "Age                        63\n",
       "Region_Code                35\n",
       "Occupation                  4\n",
       "Channel_Code                4\n",
       "Vintage                    66\n",
       "Credit_Product              2\n",
       "Avg_Account_Balance    162137\n",
       "Is_Active                   2\n",
       "Is_Lead                     2\n",
       "source                      2\n",
       "dtype: int64"
      ]
     },
     "execution_count": 14,
     "metadata": {},
     "output_type": "execute_result"
    }
   ],
   "source": [
    "data.nunique()"
   ]
  },
  {
   "cell_type": "code",
   "execution_count": 15,
   "metadata": {},
   "outputs": [
    {
     "data": {
      "text/plain": [
       "No     205965\n",
       "Yes    103225\n",
       "Name: Credit_Product, dtype: int64"
      ]
     },
     "execution_count": 15,
     "metadata": {},
     "output_type": "execute_result"
    }
   ],
   "source": [
    "data['Credit_Product'].value_counts()"
   ]
  },
  {
   "cell_type": "code",
   "execution_count": 16,
   "metadata": {},
   "outputs": [],
   "source": [
    "data['Credit_Product'].replace(np.nan,'Yes',inplace=True)"
   ]
  },
  {
   "cell_type": "code",
   "execution_count": 17,
   "metadata": {},
   "outputs": [
    {
     "data": {
      "image/png": "[encoded data removed]",
      "text/plain": [
       "<Figure size 432x288 with 1 Axes>"
      ]
     },
     "metadata": {
      "needs_background": "light"
     },
     "output_type": "display_data"
    }
   ],
   "source": [
    "sns.distplot(data['Avg_Account_Balance'])\n",
    "plt.show()"
   ]
  },
  {
   "cell_type": "code",
   "execution_count": 18,
   "metadata": {},
   "outputs": [
    {
     "data": {
      "image/png": "[encoded data removed]",
      "text/plain": [
       "<Figure size 432x288 with 1 Axes>"
      ]
     },
     "metadata": {
      "needs_background": "light"
     },
     "output_type": "display_data"
    }
   ],
   "source": [
    "#####log transform to fix skewness\n",
    "data['Avg_Account_Balance'] = np.log(data['Avg_Account_Balance']) \n",
    "sns.distplot(data['Avg_Account_Balance'])\n",
    "plt.show()"
   ]
  },
  {
   "cell_type": "code",
   "execution_count": 19,
   "metadata": {},
   "outputs": [],
   "source": [
    "train = data.loc[data['source']==\"train\"]\n",
    "test = data.loc[data['source']==\"test\"]"
   ]
  },
  {
   "cell_type": "code",
   "execution_count": 20,
   "metadata": {},
   "outputs": [],
   "source": [
    "#Drop unnecessary columns:\n",
    "test.drop(['Is_Lead','source'],axis=1,inplace=True)\n",
    "train.drop('source',axis=1,inplace=True)"
   ]
  },
  {
   "cell_type": "code",
   "execution_count": 21,
   "metadata": {},
   "outputs": [],
   "source": [
    "train.drop('ID',axis=1,inplace=True)\n",
    "test.drop(\"ID\",axis=1,inplace = True)"
   ]
  },
  {
   "cell_type": "code",
   "execution_count": 22,
   "metadata": {},
   "outputs": [
    {
     "data": {
      "text/plain": [
       "Gender                  object\n",
       "Age                      int64\n",
       "Region_Code             object\n",
       "Occupation              object\n",
       "Channel_Code            object\n",
       "Vintage                  int64\n",
       "Credit_Product          object\n",
       "Avg_Account_Balance    float64\n",
       "Is_Active               object\n",
       "Is_Lead                float64\n",
       "dtype: object"
      ]
     },
     "execution_count": 22,
     "metadata": {},
     "output_type": "execute_result"
    }
   ],
   "source": [
    "train.dtypes"
   ]
  },
  {
   "cell_type": "code",
   "execution_count": 23,
   "metadata": {},
   "outputs": [],
   "source": [
    "from sklearn.preprocessing import LabelEncoder\n",
    "le = LabelEncoder()\n",
    "var_mod = ['Gender','Region_Code','Occupation','Channel_Code','Credit_Product','Is_Active']\n",
    "for i in var_mod:\n",
    "    train[i] = le.fit_transform(train[i])\n",
    "    test[i] = le.fit_transform(test[i])"
   ]
  },
  {
   "cell_type": "code",
   "execution_count": 24,
   "metadata": {},
   "outputs": [],
   "source": [
    "X = train.drop('Is_Lead',axis=1)\n",
    "y = train['Is_Lead']"
   ]
  },
  {
   "cell_type": "code",
   "execution_count": 25,
   "metadata": {},
   "outputs": [],
   "source": [
    "##cross validation\n",
    "from sklearn.model_selection import KFold, StratifiedKFold\n",
    "from sklearn.metrics import roc_auc_score\n",
    "\n",
    "def cross_val(X, y, model, params, folds=9):\n",
    "\n",
    "    skf = StratifiedKFold(n_splits=folds, shuffle=True, random_state=21)\n",
    "    for fold, (train_idx, test_idx) in enumerate(skf.split(X, y)):\n",
    "        print(f\"Fold: {fold}\")\n",
    "        x_train, y_train = X.iloc[train_idx], y.iloc[train_idx]\n",
    "        x_test, y_test = X.iloc[test_idx], y.iloc[test_idx]\n",
    "\n",
    "        alg = model(**params)\n",
    "        alg.fit(x_train, y_train,\n",
    "                eval_set=[(x_test, y_test)],\n",
    "                early_stopping_rounds=100,\n",
    "                verbose=400)\n",
    "\n",
    "        pred = alg.predict_proba(x_test)[:, 1]\n",
    "        roc_score = roc_auc_score(y_test, pred)\n",
    "        print(f\"roc_auc_score: {roc_score}\")\n",
    "        print(\"-\"*50)\n",
    "    \n",
    "    return alg"
   ]
  },
  {
   "cell_type": "code",
   "execution_count": 26,
   "metadata": {},
   "outputs": [],
   "source": [
    "lgb_params= {'learning_rate': 0.045, \n",
    "             'n_estimators': 20000, \n",
    "             'max_bin': 94,\n",
    "             'num_leaves': 10, \n",
    "             'max_depth': 27, \n",
    "             'reg_alpha': 8.457, \n",
    "             'reg_lambda': 6.853, \n",
    "             'subsample': 0.749}"
   ]
  },
  {
   "cell_type": "code",
   "execution_count": 29,
   "metadata": {},
   "outputs": [
    {
     "name": "stdout",
     "output_type": "stream",
     "text": [
      "Collecting lightgbm\n",
      "  Downloading lightgbm-3.2.1-py3-none-win_amd64.whl (1.0 MB)\n",
      "Requirement already satisfied: wheel in c:\\users\\anujc\\anaconda3\\lib\\site-packages (from lightgbm) (0.35.1)\n",
      "Requirement already satisfied: scikit-learn!=0.22.0 in c:\\users\\anujc\\anaconda3\\lib\\site-packages (from lightgbm) (0.23.2)\n",
      "Requirement already satisfied: scipy in c:\\users\\anujc\\anaconda3\\lib\\site-packages (from lightgbm) (1.5.2)\n",
      "Requirement already satisfied: numpy in c:\\users\\anujc\\anaconda3\\lib\\site-packages (from lightgbm) (1.19.2)\n",
      "Requirement already satisfied: joblib>=0.11 in c:\\users\\anujc\\anaconda3\\lib\\site-packages (from scikit-learn!=0.22.0->lightgbm) (0.17.0)\n",
      "Requirement already satisfied: threadpoolctl>=2.0.0 in c:\\users\\anujc\\anaconda3\\lib\\site-packages (from scikit-learn!=0.22.0->lightgbm) (2.1.0)\n",
      "Installing collected packages: lightgbm\n",
      "Successfully installed lightgbm-3.2.1\n",
      "Fold: 0\n",
      "Training until validation scores don't improve for 100 rounds\n",
      "[400]\tvalid_0's binary_logloss: 0.378501\n",
      "[800]\tvalid_0's binary_logloss: 0.37827\n",
      "Early stopping, best iteration is:\n",
      "[802]\tvalid_0's binary_logloss: 0.378264\n",
      "roc_auc_score: 0.8539183817995556\n",
      "--------------------------------------------------\n",
      "Fold: 1\n",
      "Training until validation scores don't improve for 100 rounds\n",
      "[400]\tvalid_0's binary_logloss: 0.382606\n",
      "Early stopping, best iteration is:\n",
      "[524]\tvalid_0's binary_logloss: 0.382519\n",
      "roc_auc_score: 0.8500343931608946\n",
      "--------------------------------------------------\n",
      "Fold: 2\n",
      "Training until validation scores don't improve for 100 rounds\n",
      "[400]\tvalid_0's binary_logloss: 0.384762\n",
      "Early stopping, best iteration is:\n",
      "[607]\tvalid_0's binary_logloss: 0.38465\n",
      "roc_auc_score: 0.847290061663613\n",
      "--------------------------------------------------\n",
      "Fold: 3\n",
      "Training until validation scores don't improve for 100 rounds\n",
      "[400]\tvalid_0's binary_logloss: 0.383285\n",
      "Early stopping, best iteration is:\n",
      "[517]\tvalid_0's binary_logloss: 0.383167\n",
      "roc_auc_score: 0.8493604885557047\n",
      "--------------------------------------------------\n",
      "Fold: 4\n",
      "Training until validation scores don't improve for 100 rounds\n",
      "[400]\tvalid_0's binary_logloss: 0.380917\n",
      "Early stopping, best iteration is:\n",
      "[494]\tvalid_0's binary_logloss: 0.380823\n",
      "roc_auc_score: 0.8517737363514903\n",
      "--------------------------------------------------\n",
      "Fold: 5\n",
      "Training until validation scores don't improve for 100 rounds\n",
      "[400]\tvalid_0's binary_logloss: 0.382336\n",
      "Early stopping, best iteration is:\n",
      "[663]\tvalid_0's binary_logloss: 0.382243\n",
      "roc_auc_score: 0.8505607850758279\n",
      "--------------------------------------------------\n",
      "Fold: 6\n",
      "Training until validation scores don't improve for 100 rounds\n",
      "[400]\tvalid_0's binary_logloss: 0.378841\n",
      "Early stopping, best iteration is:\n",
      "[685]\tvalid_0's binary_logloss: 0.378685\n",
      "roc_auc_score: 0.8541274022666261\n",
      "--------------------------------------------------\n",
      "Fold: 7\n",
      "Training until validation scores don't improve for 100 rounds\n",
      "[400]\tvalid_0's binary_logloss: 0.38058\n",
      "[800]\tvalid_0's binary_logloss: 0.380368\n",
      "Early stopping, best iteration is:\n",
      "[832]\tvalid_0's binary_logloss: 0.38033\n",
      "roc_auc_score: 0.8533749327570593\n",
      "--------------------------------------------------\n",
      "Fold: 8\n",
      "Training until validation scores don't improve for 100 rounds\n",
      "[400]\tvalid_0's binary_logloss: 0.382945\n",
      "[800]\tvalid_0's binary_logloss: 0.382679\n",
      "Early stopping, best iteration is:\n",
      "[974]\tvalid_0's binary_logloss: 0.382578\n",
      "roc_auc_score: 0.8489208609089447\n",
      "--------------------------------------------------\n"
     ]
    }
   ],
   "source": [
    "! pip install lightgbm\n",
    "from lightgbm import LGBMClassifier\n",
    "lgb_model = cross_val(X, y, LGBMClassifier, lgb_params)"
   ]
  },
  {
   "cell_type": "code",
   "execution_count": 31,
   "metadata": {},
   "outputs": [],
   "source": [
    "xgb_params= {'n_estimators': 20000, \n",
    "             'max_depth': 6, \n",
    "             'learning_rate': 0.0201, \n",
    "             'reg_lambda': 29.326, \n",
    "             'subsample': 0.818, \n",
    "             'colsample_bytree': 0.235, \n",
    "             'colsample_bynode': 0.820, \n",
    "             'colsample_bylevel': 0.453}"
   ]
  },
  {
   "cell_type": "code",
   "execution_count": 32,
   "metadata": {
    "scrolled": false
   },
   "outputs": [
    {
     "name": "stdout",
     "output_type": "stream",
     "text": [
      "Fold: 0\n",
      "[17:13:05] WARNING: C:/Users/Administrator/workspace/xgboost-win64_release_1.4.0/src/learner.cc:1095: Starting in XGBoost 1.3.0, the default evaluation metric used with the objective 'binary:logistic' was changed from 'error' to 'logloss'. Explicitly set eval_metric if you'd like to restore the old behavior.\n",
      "[0]\tvalidation_0-logloss:0.68734\n",
      "[400]\tvalidation_0-logloss:0.39726\n",
      "[800]\tvalidation_0-logloss:0.38761\n",
      "[1200]\tvalidation_0-logloss:0.38479\n",
      "[1600]\tvalidation_0-logloss:0.38353\n",
      "[2000]\tvalidation_0-logloss:0.38276\n",
      "[2400]\tvalidation_0-logloss:0.38214\n",
      "[2800]\tvalidation_0-logloss:0.38178\n",
      "[3200]\tvalidation_0-logloss:0.38151\n",
      "[3600]\tvalidation_0-logloss:0.38124\n",
      "[4000]\tvalidation_0-logloss:0.38097\n",
      "[4294]\tvalidation_0-logloss:0.38087\n",
      "roc_auc_score: 0.8522862488182819\n",
      "--------------------------------------------------\n",
      "Fold: 1\n",
      "[17:15:00] WARNING: C:/Users/Administrator/workspace/xgboost-win64_release_1.4.0/src/learner.cc:1095: Starting in XGBoost 1.3.0, the default evaluation metric used with the objective 'binary:logistic' was changed from 'error' to 'logloss'. Explicitly set eval_metric if you'd like to restore the old behavior.\n",
      "[0]\tvalidation_0-logloss:0.68729\n",
      "[400]\tvalidation_0-logloss:0.39932\n",
      "[800]\tvalidation_0-logloss:0.39048\n",
      "[1200]\tvalidation_0-logloss:0.38792\n",
      "[1600]\tvalidation_0-logloss:0.38673\n",
      "[2000]\tvalidation_0-logloss:0.38604\n",
      "[2400]\tvalidation_0-logloss:0.38545\n",
      "[2800]\tvalidation_0-logloss:0.38516\n",
      "[3200]\tvalidation_0-logloss:0.38493\n",
      "[3600]\tvalidation_0-logloss:0.38478\n",
      "[3605]\tvalidation_0-logloss:0.38477\n",
      "roc_auc_score: 0.849056373792358\n",
      "--------------------------------------------------\n",
      "Fold: 2\n",
      "[17:16:37] WARNING: C:/Users/Administrator/workspace/xgboost-win64_release_1.4.0/src/learner.cc:1095: Starting in XGBoost 1.3.0, the default evaluation metric used with the objective 'binary:logistic' was changed from 'error' to 'logloss'. Explicitly set eval_metric if you'd like to restore the old behavior.\n",
      "[0]\tvalidation_0-logloss:0.68732\n",
      "[400]\tvalidation_0-logloss:0.40129\n",
      "[800]\tvalidation_0-logloss:0.39230\n",
      "[1200]\tvalidation_0-logloss:0.38952\n",
      "[1600]\tvalidation_0-logloss:0.38826\n",
      "[2000]\tvalidation_0-logloss:0.38754\n",
      "[2400]\tvalidation_0-logloss:0.38700\n",
      "[2800]\tvalidation_0-logloss:0.38657\n",
      "[3200]\tvalidation_0-logloss:0.38635\n",
      "[3563]\tvalidation_0-logloss:0.38620\n",
      "roc_auc_score: 0.8469940668016197\n",
      "--------------------------------------------------\n",
      "Fold: 3\n",
      "[17:18:15] WARNING: C:/Users/Administrator/workspace/xgboost-win64_release_1.4.0/src/learner.cc:1095: Starting in XGBoost 1.3.0, the default evaluation metric used with the objective 'binary:logistic' was changed from 'error' to 'logloss'. Explicitly set eval_metric if you'd like to restore the old behavior.\n",
      "[0]\tvalidation_0-logloss:0.68732\n",
      "[400]\tvalidation_0-logloss:0.40163\n",
      "[800]\tvalidation_0-logloss:0.39275\n",
      "[1200]\tvalidation_0-logloss:0.38991\n",
      "[1600]\tvalidation_0-logloss:0.38853\n",
      "[2000]\tvalidation_0-logloss:0.38767\n",
      "[2400]\tvalidation_0-logloss:0.38694\n",
      "[2800]\tvalidation_0-logloss:0.38659\n",
      "[3200]\tvalidation_0-logloss:0.38626\n",
      "[3600]\tvalidation_0-logloss:0.38600\n",
      "[4000]\tvalidation_0-logloss:0.38568\n",
      "[4295]\tvalidation_0-logloss:0.38559\n",
      "roc_auc_score: 0.8476909912122323\n",
      "--------------------------------------------------\n",
      "Fold: 4\n",
      "[17:20:13] WARNING: C:/Users/Administrator/workspace/xgboost-win64_release_1.4.0/src/learner.cc:1095: Starting in XGBoost 1.3.0, the default evaluation metric used with the objective 'binary:logistic' was changed from 'error' to 'logloss'. Explicitly set eval_metric if you'd like to restore the old behavior.\n",
      "[0]\tvalidation_0-logloss:0.68734\n",
      "[400]\tvalidation_0-logloss:0.39831\n",
      "[800]\tvalidation_0-logloss:0.38873\n",
      "[1200]\tvalidation_0-logloss:0.38594\n",
      "[1600]\tvalidation_0-logloss:0.38470\n",
      "[2000]\tvalidation_0-logloss:0.38395\n",
      "[2400]\tvalidation_0-logloss:0.38339\n",
      "[2800]\tvalidation_0-logloss:0.38299\n",
      "[3200]\tvalidation_0-logloss:0.38271\n",
      "[3600]\tvalidation_0-logloss:0.38254\n",
      "[4000]\tvalidation_0-logloss:0.38234\n",
      "[4235]\tvalidation_0-logloss:0.38228\n",
      "roc_auc_score: 0.851962923834785\n",
      "--------------------------------------------------\n",
      "Fold: 5\n",
      "[17:22:08] WARNING: C:/Users/Administrator/workspace/xgboost-win64_release_1.4.0/src/learner.cc:1095: Starting in XGBoost 1.3.0, the default evaluation metric used with the objective 'binary:logistic' was changed from 'error' to 'logloss'. Explicitly set eval_metric if you'd like to restore the old behavior.\n",
      "[0]\tvalidation_0-logloss:0.68732\n",
      "[400]\tvalidation_0-logloss:0.39911\n",
      "[800]\tvalidation_0-logloss:0.39025\n",
      "[1200]\tvalidation_0-logloss:0.38760\n",
      "[1600]\tvalidation_0-logloss:0.38633\n",
      "[2000]\tvalidation_0-logloss:0.38553\n",
      "[2400]\tvalidation_0-logloss:0.38491\n",
      "[2800]\tvalidation_0-logloss:0.38451\n",
      "[3200]\tvalidation_0-logloss:0.38420\n",
      "[3600]\tvalidation_0-logloss:0.38391\n",
      "[4000]\tvalidation_0-logloss:0.38366\n",
      "[4296]\tvalidation_0-logloss:0.38362\n",
      "roc_auc_score: 0.849888233377\n",
      "--------------------------------------------------\n",
      "Fold: 6\n",
      "[17:24:06] WARNING: C:/Users/Administrator/workspace/xgboost-win64_release_1.4.0/src/learner.cc:1095: Starting in XGBoost 1.3.0, the default evaluation metric used with the objective 'binary:logistic' was changed from 'error' to 'logloss'. Explicitly set eval_metric if you'd like to restore the old behavior.\n",
      "[0]\tvalidation_0-logloss:0.68734\n",
      "[400]\tvalidation_0-logloss:0.39691\n",
      "[800]\tvalidation_0-logloss:0.38729\n",
      "[1200]\tvalidation_0-logloss:0.38431\n",
      "[1600]\tvalidation_0-logloss:0.38288\n",
      "[2000]\tvalidation_0-logloss:0.38201\n",
      "[2400]\tvalidation_0-logloss:0.38137\n",
      "[2800]\tvalidation_0-logloss:0.38092\n",
      "[3200]\tvalidation_0-logloss:0.38060\n",
      "[3600]\tvalidation_0-logloss:0.38037\n",
      "[4000]\tvalidation_0-logloss:0.38014\n",
      "[4400]\tvalidation_0-logloss:0.38003\n",
      "[4800]\tvalidation_0-logloss:0.37988\n",
      "[5160]\tvalidation_0-logloss:0.37978\n",
      "roc_auc_score: 0.8538767016995077\n",
      "--------------------------------------------------\n",
      "Fold: 7\n",
      "[17:26:27] WARNING: C:/Users/Administrator/workspace/xgboost-win64_release_1.4.0/src/learner.cc:1095: Starting in XGBoost 1.3.0, the default evaluation metric used with the objective 'binary:logistic' was changed from 'error' to 'logloss'. Explicitly set eval_metric if you'd like to restore the old behavior.\n",
      "[0]\tvalidation_0-logloss:0.68730\n",
      "[400]\tvalidation_0-logloss:0.40100\n",
      "[800]\tvalidation_0-logloss:0.39062\n",
      "[1200]\tvalidation_0-logloss:0.38680\n",
      "[1600]\tvalidation_0-logloss:0.38490\n",
      "[2000]\tvalidation_0-logloss:0.38399\n",
      "[2400]\tvalidation_0-logloss:0.38354\n",
      "[2800]\tvalidation_0-logloss:0.38318\n",
      "[3200]\tvalidation_0-logloss:0.38286\n",
      "[3600]\tvalidation_0-logloss:0.38257\n",
      "[4000]\tvalidation_0-logloss:0.38235\n",
      "[4400]\tvalidation_0-logloss:0.38218\n",
      "[4614]\tvalidation_0-logloss:0.38216\n",
      "roc_auc_score: 0.8523600492672988\n",
      "--------------------------------------------------\n",
      "Fold: 8\n",
      "[17:28:36] WARNING: C:/Users/Administrator/workspace/xgboost-win64_release_1.4.0/src/learner.cc:1095: Starting in XGBoost 1.3.0, the default evaluation metric used with the objective 'binary:logistic' was changed from 'error' to 'logloss'. Explicitly set eval_metric if you'd like to restore the old behavior.\n",
      "[0]\tvalidation_0-logloss:0.68733\n",
      "[400]\tvalidation_0-logloss:0.40377\n",
      "[800]\tvalidation_0-logloss:0.39346\n",
      "[1200]\tvalidation_0-logloss:0.38951\n",
      "[1600]\tvalidation_0-logloss:0.38756\n",
      "[2000]\tvalidation_0-logloss:0.38657\n",
      "[2400]\tvalidation_0-logloss:0.38604\n",
      "[2800]\tvalidation_0-logloss:0.38570\n",
      "[3200]\tvalidation_0-logloss:0.38534\n",
      "[3600]\tvalidation_0-logloss:0.38511\n",
      "[4000]\tvalidation_0-logloss:0.38487\n",
      "[4400]\tvalidation_0-logloss:0.38470\n",
      "[4800]\tvalidation_0-logloss:0.38450\n",
      "[5200]\tvalidation_0-logloss:0.38438\n",
      "[5600]\tvalidation_0-logloss:0.38425\n",
      "[5753]\tvalidation_0-logloss:0.38425\n",
      "roc_auc_score: 0.8483465413920821\n",
      "--------------------------------------------------\n"
     ]
    }
   ],
   "source": [
    "from xgboost import XGBClassifier\n",
    "xgb_model = cross_val(X, y, XGBClassifier, xgb_params)"
   ]
  },
  {
   "cell_type": "code",
   "execution_count": 34,
   "metadata": {},
   "outputs": [],
   "source": [
    "pred_test_lgb = lgb_model.predict_proba(test)[:,1]\n",
    "pred_test_xgb = xgb_model.predict_proba(test)[:,1]"
   ]
  },
  {
   "cell_type": "code",
   "execution_count": 35,
   "metadata": {},
   "outputs": [],
   "source": [
    "prediction = (pred_test_lgb + pred_test_xgb)/2"
   ]
  },
  {
   "cell_type": "code",
   "execution_count": 36,
   "metadata": {},
   "outputs": [],
   "source": [
    "sample_submission=pd.read_csv(r'C:\\Users\\anujc\\Downloads\\sample_submission_eyYijxG.csv')"
   ]
  },
  {
   "cell_type": "code",
   "execution_count": 37,
   "metadata": {},
   "outputs": [],
   "source": [
    "##creating seaparate files\n",
    "sample_submission['Is_Lead'] = prediction\n",
    "sample_submission.to_csv(f'submission.csv',index=False)"
   ]
  },
  {
   "cell_type": "code",
   "execution_count": 38,
   "metadata": {},
   "outputs": [],
   "source": [
    "sample_submission['Is_Lead'] = pred_test_lgb\n",
    "sample_submission.to_csv(f'pred_test_lgb.csv',index=False)\n",
    "\n",
    "sample_submission['Is_Lead'] = pred_test_xgb\n",
    "sample_submission.to_csv(f'pred_test_xgb.csv',index=False)"
   ]
  }
 ],
 "metadata": {
  "kernelspec": {
   "display_name": "Python 3",
   "language": "python",
   "name": "python3"
  },
  "language_info": {
   "codemirror_mode": {
    "name": "ipython",
    "version": 3
   },
   "file_extension": ".py",
   "mimetype": "text/x-python",
   "name": "python",
   "nbconvert_exporter": "python",
   "pygments_lexer": "ipython3",
   "version": "3.8.5"
  }
 },
 "nbformat": 4,
 "nbformat_minor": 4
}
